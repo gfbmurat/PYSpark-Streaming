{
 "cells": [
  {
   "cell_type": "code",
   "execution_count": 1,
   "metadata": {},
   "outputs": [],
   "source": [
    "import findspark\n",
    "findspark.init()\n",
    "from pyspark.streaming import *\n",
    "from pyspark import SparkConf, SparkContext\n",
    "\n",
    "sc = SparkContext(\"local[4]\", \"TweetStreaming\")\n",
    "\n",
    "ssc = StreamingContext(sc, batchDuration=10)\n",
    "\n",
    "lines = ssc.textFileStream(\"C:\\\\Users\\\\Muhammed\\\\Desktop\\\\Spark\\\\Streaming\")\n",
    "\n",
    "lines.pprint(20)"
   ]
  },
  {
   "cell_type": "code",
   "execution_count": 2,
   "metadata": {},
   "outputs": [
    {
     "name": "stdout",
     "output_type": "stream",
     "text": [
      "-------------------------------------------\n",
      "Time: 2019-11-19 23:34:20\n",
      "-------------------------------------------\n",
      "\n",
      "-------------------------------------------\n",
      "Time: 2019-11-19 23:34:30\n",
      "-------------------------------------------\n",
      "\n"
     ]
    }
   ],
   "source": [
    "ssc.start()"
   ]
  },
  {
   "cell_type": "code",
   "execution_count": null,
   "metadata": {},
   "outputs": [
    {
     "name": "stdout",
     "output_type": "stream",
     "text": [
      "-------------------------------------------\n",
      "Time: 2019-11-19 23:34:40\n",
      "-------------------------------------------\n",
      "\n",
      "-------------------------------------------\n",
      "Time: 2019-11-19 23:34:50\n",
      "-------------------------------------------\n",
      "Tweet;Location;Time;User Name\n",
      "Ben seni yazdım herkes şiir sandı  #deprem;;2019-11-18T01:41:01Z;\n",
      "Bursa geçmiş olsun . #deprem;Türkiye;2019-11-18T01:41:38Z;\n",
      "\"Neyse yine Twitter'da Konuşacak kimse yok..\n",
      "\n",
      "Ben gidip depremden dolayı mağdur olanlar için dua edeyim ve kitabımı okumaya devam edeyim\n",
      "Allah'a emanet\n",
      "#iyigeceler \n",
      "#deprem\";Samsun;2019-11-18T01:41:59Z;\n",
      "İsa'dan 460 yıl önce (M.Ö) şeker Hastalığının Teşhisini Karınca vb. Böcek türü ile idrar tahlili yapan Söğüt Ağacından posa yapıp merhem ve ilaç Yapan (aspirin) kişinin önünde saygıyla eğiliyorum. #Hipokrat #Pazartesi #Deprem #Bursa #Sağlık #Doktor #Hastane https://t.co/VhbDFyIfST;;2019-11-18T01:42:22Z;\n",
      "Ya bunlar nasıl fay hattı Hataydan bi girmiş Karadeniz kıyısından geçip Egede gezinmiş durmuş,ya adamlarin başinda bin turlu bela var Hatay'ı bari salsaydınız keşke #deprem https://t.co/uJCwjpszO8;;2019-11-18T01:43:22Z;\n",
      "RT @_MBYK: anlık bursalılar #deprem https://t.co/SuddTtEYXl;USKUDAR.Türkiye /65 VAN🐈🐈;2019-11-18T01:43:59Z;\n",
      "\"RT @erkandiye1i: Bursa'da deprem olmuş. \n",
      "#deprem https://t.co/ab72Chm676\";USKUDAR.Türkiye /65 VAN🐈🐈;2019-11-18T01:44:07Z;\n",
      "\"RT @Kandilli_info: #DEPREM\n",
      "OSMAN GAZI (BURSA) https://t.co/nW15Rcyou9\n",
      "18.11.2019, 02:23:31 TSİ\n",
      "Büyüklük: 3.0\n",
      "Derinlik: 8.1 km\n",
      "#Kandilli\";Bursa, Türkiye;2019-11-18T01:44:51Z;\n",
      "...\n",
      "\n",
      "-------------------------------------------\n",
      "Time: 2019-11-19 23:35:00\n",
      "-------------------------------------------\n",
      "\n",
      "-------------------------------------------\n",
      "Time: 2019-11-19 23:35:10\n",
      "-------------------------------------------\n",
      "\n",
      "-------------------------------------------\n",
      "Time: 2019-11-19 23:35:20\n",
      "-------------------------------------------\n",
      "\n"
     ]
    }
   ],
   "source": [
    "ssc.awaitTermination()"
   ]
  },
  {
   "cell_type": "code",
   "execution_count": null,
   "metadata": {},
   "outputs": [],
   "source": []
  }
 ],
 "metadata": {
  "kernelspec": {
   "display_name": "Python 3",
   "language": "python",
   "name": "python3"
  },
  "language_info": {
   "codemirror_mode": {
    "name": "ipython",
    "version": 3
   },
   "file_extension": ".py",
   "mimetype": "text/x-python",
   "name": "python",
   "nbconvert_exporter": "python",
   "pygments_lexer": "ipython3",
   "version": "3.7.3"
  }
 },
 "nbformat": 4,
 "nbformat_minor": 2
}
