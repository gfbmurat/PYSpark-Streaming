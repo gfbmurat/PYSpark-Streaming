{
 "cells": [
  {
   "cell_type": "code",
   "execution_count": 4,
   "metadata": {},
   "outputs": [],
   "source": [
    "import findspark\n",
    "findspark.init()"
   ]
  },
  {
   "cell_type": "code",
   "execution_count": 7,
   "metadata": {},
   "outputs": [],
   "source": [
    "from pyspark import SparkConf, SparkContext"
   ]
  },
  {
   "cell_type": "code",
   "execution_count": 8,
   "metadata": {},
   "outputs": [],
   "source": [
    "conf = SparkConf().setMaster(\"local[4]\").setAppName(\"Bro-Var\")\n",
    "sc = SparkContext(conf = conf).getOrCreate()"
   ]
  },
  {
   "cell_type": "markdown",
   "metadata": {},
   "source": [
    "# Read Products and Return product_id,product_name"
   ]
  },
  {
   "cell_type": "code",
   "execution_count": 9,
   "metadata": {},
   "outputs": [],
   "source": [
    "def read_products():\n",
    "    products_text_wrapper = open(\"C:\\\\Users\\\\Muhammed\\\\Desktop\\\\Spark\\\\6\\\\products.txt\", \"r\", encoding=\"utf-8\")\n",
    "    \n",
    "    #read line\n",
    "    products = products_text_wrapper.readlines()\n",
    "    \n",
    "    product_id_name ={}\n",
    "    \n",
    "    for line in products:\n",
    "        #delete header\n",
    "        if \"productCategoryId\" not in line:\n",
    "            product_id = int(line.split(\",\")[0])\n",
    "            product_name = line.split(\",\")[2]\n",
    "            \n",
    "            product_id_name.update({product_id:product_name})\n",
    "    return product_id_name        "
   ]
  },
  {
   "cell_type": "code",
   "execution_count": 10,
   "metadata": {},
   "outputs": [],
   "source": [
    "products = read_products()"
   ]
  },
  {
   "cell_type": "code",
   "execution_count": 11,
   "metadata": {},
   "outputs": [],
   "source": [
    "broadcast_products = sc.broadcast(products)"
   ]
  },
  {
   "cell_type": "code",
   "execution_count": 12,
   "metadata": {},
   "outputs": [
    {
     "data": {
      "text/plain": [
       "\"Under Armour Men's Highlight MC Football Clea\""
      ]
     },
     "execution_count": 12,
     "metadata": {},
     "output_type": "execute_result"
    }
   ],
   "source": [
    "broadcast_products.value.get(10)"
   ]
  },
  {
   "cell_type": "markdown",
   "metadata": {},
   "source": [
    "# Read order_item and create RDD"
   ]
  },
  {
   "cell_type": "code",
   "execution_count": 14,
   "metadata": {},
   "outputs": [],
   "source": [
    "order_items_rdd = sc.textFile(\"C:\\\\Users\\\\Muhammed\\\\Desktop\\\\Spark\\\\6\\\\order_items.txt\") \\\n",
    ".filter(lambda x: \"orderItemOrderId\" not in x)"
   ]
  },
  {
   "cell_type": "code",
   "execution_count": 15,
   "metadata": {},
   "outputs": [
    {
     "data": {
      "text/plain": [
       "['1,1,957,1,299.98,299.98',\n",
       " '2,2,1073,1,199.99,199.99',\n",
       " '3,2,502,5,250.0,50.0',\n",
       " '4,2,403,1,129.99,129.99',\n",
       " '5,4,897,2,49.98,24.99']"
      ]
     },
     "execution_count": 15,
     "metadata": {},
     "output_type": "execute_result"
    }
   ],
   "source": [
    "order_items_rdd.take(5)"
   ]
  },
  {
   "cell_type": "markdown",
   "metadata": {},
   "source": [
    "# make order_items  pairRDD"
   ]
  },
  {
   "cell_type": "code",
   "execution_count": 16,
   "metadata": {},
   "outputs": [],
   "source": [
    "def make_order_items_pairRDD(line):\n",
    "    order_item_product_id = int(line.split(\",\")[2])\n",
    "    order_item_sub_total = float(line.split(\",\")[4])\n",
    "    \n",
    "    return(order_item_product_id, order_item_sub_total)"
   ]
  },
  {
   "cell_type": "code",
   "execution_count": 17,
   "metadata": {},
   "outputs": [],
   "source": [
    "order_items_pairRDD = order_items_rdd.map(make_order_items_pairRDD)"
   ]
  },
  {
   "cell_type": "code",
   "execution_count": 18,
   "metadata": {},
   "outputs": [
    {
     "data": {
      "text/plain": [
       "[(957, 299.98), (1073, 199.99), (502, 250.0), (403, 129.99), (897, 49.98)]"
      ]
     },
     "execution_count": 18,
     "metadata": {},
     "output_type": "execute_result"
    }
   ],
   "source": [
    "order_items_pairRDD.take(5)"
   ]
  },
  {
   "cell_type": "code",
   "execution_count": 26,
   "metadata": {},
   "outputs": [],
   "source": [
    "# sort by sub total\n",
    "sorted_orders = order_items_pairRDD.reduceByKey(lambda x,y: x+y) \\\n",
    ".map(lambda x: (x[1], x[0])) \\\n",
    ".sortByKey(False) \\\n",
    ".map(lambda x: (x[1], x[0]))"
   ]
  },
  {
   "cell_type": "code",
   "execution_count": 27,
   "metadata": {},
   "outputs": [
    {
     "data": {
      "text/plain": [
       "[(1004, 6929653.499999708),\n",
       " (365, 4421143.019999639),\n",
       " (957, 4118425.419999785),\n",
       " (191, 3667633.1999997487),\n",
       " (502, 3147800.0)]"
      ]
     },
     "execution_count": 27,
     "metadata": {},
     "output_type": "execute_result"
    }
   ],
   "source": [
    "sorted_orders.take(5)"
   ]
  },
  {
   "cell_type": "markdown",
   "metadata": {},
   "source": [
    "# Combine order_items(pairRDD) and products(broadcast variable)"
   ]
  },
  {
   "cell_type": "code",
   "execution_count": 28,
   "metadata": {},
   "outputs": [],
   "source": [
    "sorted_orders_with_product_name = sorted_orders.map(lambda x: (broadcast_products.value.get(x[0]),x[1]))"
   ]
  },
  {
   "cell_type": "code",
   "execution_count": 30,
   "metadata": {},
   "outputs": [
    {
     "data": {
      "text/plain": [
       "[('Field & Stream Sportsman 16 Gun Fire Safe', 6929653.499999708),\n",
       " ('Perfect Fitness Perfect Rip Deck', 4421143.019999639),\n",
       " (\"Diamondback Women's Serene Classic Comfort Bi\", 4118425.419999785),\n",
       " (\"Nike Men's Free 5.0+ Running Shoe\", 3667633.1999997487),\n",
       " (\"Nike Men's Dri-FIT Victory Golf Polo\", 3147800.0),\n",
       " ('Pelican Sunstream 100 Kayak', 3099844.999999871),\n",
       " (\"Nike Men's CJ Elite 2 TD Football Cleat\", 2891757.5399998166),\n",
       " (\"O'Brien Men's Neoprene Life Vest\", 2888993.9399996493),\n",
       " (\"Under Armour Girls' Toddler Spine Surge Runni\", 1269082.649999932),\n",
       " ('adidas Youth Germany Black/Red Away Match Soc', 67830.0),\n",
       " (\"LIJA Women's Eyelet Sleeveless Golf Polo\", 61490.0),\n",
       " (\"adidas Men's F10 Messi TRX FG Soccer Cleat\", 56330.61000000003),\n",
       " ('Titleist Pro V1x High Numbers Personalized Go', 47206.920000000006),\n",
       " (\"Under Armour Women's Micro G Skulpt Running S\", 46559.58999999997),\n",
       " (\"Nike Men's Comfort 2 Slide\", 44585.09000000002),\n",
       " ('Titleist Pro V1 High Numbers Personalized Gol', 44243.490000000005),\n",
       " ('Titleist Pro V1x Golf Balls', 41415.37),\n",
       " ('Titleist Pro V1x High Numbers Golf Balls', 38391.99999999997),\n",
       " (\"Under Armour Men's Compression EV SL Slide\", 36576.86999999999),\n",
       " (\"TYR Boys' Team Digi Jammer\", 35191.19999999998)]"
      ]
     },
     "execution_count": 30,
     "metadata": {},
     "output_type": "execute_result"
    }
   ],
   "source": [
    "sorted_orders_with_product_name.take(20)"
   ]
  },
  {
   "cell_type": "code",
   "execution_count": null,
   "metadata": {},
   "outputs": [],
   "source": []
  }
 ],
 "metadata": {
  "kernelspec": {
   "display_name": "Python 3",
   "language": "python",
   "name": "python3"
  },
  "language_info": {
   "codemirror_mode": {
    "name": "ipython",
    "version": 3
   },
   "file_extension": ".py",
   "mimetype": "text/x-python",
   "name": "python",
   "nbconvert_exporter": "python",
   "pygments_lexer": "ipython3",
   "version": "3.7.3"
  }
 },
 "nbformat": 4,
 "nbformat_minor": 2
}
