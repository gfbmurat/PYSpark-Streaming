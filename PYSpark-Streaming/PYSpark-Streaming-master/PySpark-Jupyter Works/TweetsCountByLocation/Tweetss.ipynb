{
 "cells": [
  {
   "cell_type": "code",
   "execution_count": 15,
   "metadata": {},
   "outputs": [],
   "source": [
    "import findspark\n",
    "findspark.init()\n",
    "from pyspark.sql import SparkSession\n",
    "import pyspark.sql.functions as f\n",
    "\n",
    "spark = SparkSession.builder \\\n",
    ".master(\"local[2]\") \\\n",
    ".appName(\"StringOps\") \\\n",
    ".config(\"spark.executor.memory\",\"4g\") \\\n",
    ".config(\"spark.driver.memory\",\"2g\") \\\n",
    ".getOrCreate()"
   ]
  },
  {
   "cell_type": "code",
   "execution_count": 16,
   "metadata": {},
   "outputs": [],
   "source": [
    "simple_df = spark.read \\\n",
    ".option(\"header\",\"True\") \\\n",
    ".option(\"inferSchema\",\"True\") \\\n",
    ".option(\"sep\",\";\") \\\n",
    ".csv(\"C:\\\\Users\\\\Muhammed\\\\Desktop\\\\Spark\\\\Streaming\\\\Tweetscsv - Kopya.txt\")"
   ]
  },
  {
   "cell_type": "code",
   "execution_count": 17,
   "metadata": {},
   "outputs": [
    {
     "name": "stdout",
     "output_type": "stream",
     "text": [
      "+-----------+-----+\n",
      "|       word|count|\n",
      "+-----------+-----+\n",
      "|    Türkiye|   49|\n",
      "|  İstanbul,|   15|\n",
      "|   İstanbul|   12|\n",
      "|    Ankara,|    7|\n",
      "|           |    5|\n",
      "|   فَاَيْنَ|    5|\n",
      "|          ﷽|    5|\n",
      "|تَذْهَبُونَ|    5|\n",
      "|         Dm|    4|\n",
      "|     Bursa,|    4|\n",
      "|   iletişim|    4|\n",
      "|       İçin|    4|\n",
      "|Deutschland|    3|\n",
      "|     Ankara|    3|\n",
      "|   istanbul|    3|\n",
      "|        /65|    2|\n",
      "| koruyanlar|    2|\n",
      "|   şarkılar|    2|\n",
      "|      India|    2|\n",
      "|      based|    2|\n",
      "+-----------+-----+\n",
      "only showing top 20 rows\n",
      "\n"
     ]
    }
   ],
   "source": [
    "df.withColumn('word', f.explode(f.split(f.col(\"Location\"), ' ')))\\\n",
    "    .groupBy('word')\\\n",
    "    .count()\\\n",
    "    .sort('count', ascending=False)\\\n",
    "    .show()"
   ]
  },
  {
   "cell_type": "code",
   "execution_count": null,
   "metadata": {},
   "outputs": [],
   "source": []
  }
 ],
 "metadata": {
  "kernelspec": {
   "display_name": "Python 3",
   "language": "python",
   "name": "python3"
  },
  "language_info": {
   "codemirror_mode": {
    "name": "ipython",
    "version": 3
   },
   "file_extension": ".py",
   "mimetype": "text/x-python",
   "name": "python",
   "nbconvert_exporter": "python",
   "pygments_lexer": "ipython3",
   "version": "3.7.3"
  }
 },
 "nbformat": 4,
 "nbformat_minor": 2
}
