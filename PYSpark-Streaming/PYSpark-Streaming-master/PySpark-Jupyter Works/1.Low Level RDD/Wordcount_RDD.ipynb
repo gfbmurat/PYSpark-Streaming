{
 "cells": [
  {
   "cell_type": "code",
   "execution_count": 1,
   "metadata": {},
   "outputs": [],
   "source": [
    "import findspark\n",
    "findspark.init()"
   ]
  },
  {
   "cell_type": "code",
   "execution_count": 2,
   "metadata": {},
   "outputs": [],
   "source": [
    "#SparkContext\n",
    "from pyspark.sql import SparkSession\n",
    "from pyspark.conf import SparkConf"
   ]
  },
  {
   "cell_type": "code",
   "execution_count": 4,
   "metadata": {},
   "outputs": [],
   "source": [
    "spark=SparkSession.builder \\\n",
    ".master(\"local[4]\") \\\n",
    ".appName(\"Wordcount_RDD\") \\\n",
    ".getOrCreate()"
   ]
  },
  {
   "cell_type": "code",
   "execution_count": 5,
   "metadata": {},
   "outputs": [],
   "source": [
    "sc =spark.sparkContext"
   ]
  },
  {
   "cell_type": "code",
   "execution_count": 6,
   "metadata": {},
   "outputs": [],
   "source": [
    "veri_dosyasi = \"C:\\\\Users\\\\Muhammed\\\\Desktop\\\\Spark\\\\5\\\\omer-seyfettin-forsa-hikaye.txt\""
   ]
  },
  {
   "cell_type": "code",
   "execution_count": 7,
   "metadata": {},
   "outputs": [],
   "source": [
    "hikaye_rdd = sc.textFile(veri_dosyasi)"
   ]
  },
  {
   "cell_type": "code",
   "execution_count": 8,
   "metadata": {},
   "outputs": [
    {
     "data": {
      "text/plain": [
       "103"
      ]
     },
     "execution_count": 8,
     "metadata": {},
     "output_type": "execute_result"
    }
   ],
   "source": [
    "hikaye_rdd.count()"
   ]
  },
  {
   "cell_type": "code",
   "execution_count": 9,
   "metadata": {},
   "outputs": [
    {
     "data": {
      "text/plain": [
       "['Ömer Seyfettin - Forsa',\n",
       " '',\n",
       " 'Akdeniz’in, kahramanlık yuvası sonsuz ufuklarına bakan küçük tepe, minimini bir çiçek ormanı gibiydi. İnce uzun dallı badem ağaçlarının alaca gölgeleri sahile inen keçiyoluna düşüyor, ilkbaharın tatlı rüzgârıyla sarhoş olan martılar, çılgın bağrışlarıyla havayı çınlatıyordu. Badem bahçesinin yanı geniş bir bağdı. Beyaz taşlardan yapılmış kısa bir duvarın ötesindeki harabe vadiye kadar iniyordu. Bağın ortasındaki yıkık kulübenin kapısız girişinden bir ihtiyar çıktı. Saçı sakalı bembeyazdı. Kamburunu düzeltmek istiyormuş gibi gerindi. Elleri, ayakları titriyordu. Gök kadar boş, gök kadar sakin duran denize baktı, baktı.',\n",
       " '',\n",
       " '– Hayırdır inşallah! dedi.']"
      ]
     },
     "execution_count": 9,
     "metadata": {},
     "output_type": "execute_result"
    }
   ],
   "source": [
    "hikaye_rdd.take(5)"
   ]
  },
  {
   "cell_type": "code",
   "execution_count": 11,
   "metadata": {},
   "outputs": [],
   "source": [
    "kelimeler = hikaye_rdd.flatMap(lambda satir: satir.split(\" \"))"
   ]
  },
  {
   "cell_type": "code",
   "execution_count": 12,
   "metadata": {},
   "outputs": [
    {
     "data": {
      "text/plain": [
       "['Ömer',\n",
       " 'Seyfettin',\n",
       " '-',\n",
       " 'Forsa',\n",
       " '',\n",
       " 'Akdeniz’in,',\n",
       " 'kahramanlık',\n",
       " 'yuvası',\n",
       " 'sonsuz',\n",
       " 'ufuklarına']"
      ]
     },
     "execution_count": 12,
     "metadata": {},
     "output_type": "execute_result"
    }
   ],
   "source": [
    "kelimeler.take(10)"
   ]
  },
  {
   "cell_type": "code",
   "execution_count": 13,
   "metadata": {},
   "outputs": [],
   "source": [
    "kelime_sayilari = kelimeler.map(lambda kelime: (kelime,1))"
   ]
  },
  {
   "cell_type": "code",
   "execution_count": 14,
   "metadata": {},
   "outputs": [
    {
     "data": {
      "text/plain": [
       "[('Ömer', 1), ('Seyfettin', 1), ('-', 1), ('Forsa', 1), ('', 1)]"
      ]
     },
     "execution_count": 14,
     "metadata": {},
     "output_type": "execute_result"
    }
   ],
   "source": [
    "kelime_sayilari.take(5)"
   ]
  },
  {
   "cell_type": "code",
   "execution_count": 18,
   "metadata": {},
   "outputs": [],
   "source": [
    "kelime_sayilari_RBK = kelime_sayilari.reduceByKey(lambda x,y: x+y)"
   ]
  },
  {
   "cell_type": "code",
   "execution_count": 19,
   "metadata": {},
   "outputs": [
    {
     "data": {
      "text/plain": [
       "[('Ömer', 1),\n",
       " ('Seyfettin', 1),\n",
       " ('Forsa', 1),\n",
       " ('', 59),\n",
       " ('Akdeniz’in,', 1),\n",
       " ('kahramanlık', 2),\n",
       " ('sonsuz', 1),\n",
       " ('ufuklarına', 1),\n",
       " ('bakan', 1),\n",
       " ('uzun', 1)]"
      ]
     },
     "execution_count": 19,
     "metadata": {},
     "output_type": "execute_result"
    }
   ],
   "source": [
    "kelime_sayilari_RBK.take(10)"
   ]
  },
  {
   "cell_type": "code",
   "execution_count": 20,
   "metadata": {},
   "outputs": [],
   "source": [
    "kelime_sayilari_RBK2 = kelime_sayilari_RBK.map(lambda x: (x[1], x[0]))"
   ]
  },
  {
   "cell_type": "code",
   "execution_count": 21,
   "metadata": {},
   "outputs": [
    {
     "data": {
      "text/plain": [
       "[(1, 'Ömer'),\n",
       " (1, 'Seyfettin'),\n",
       " (1, 'Forsa'),\n",
       " (59, ''),\n",
       " (1, 'Akdeniz’in,'),\n",
       " (2, 'kahramanlık'),\n",
       " (1, 'sonsuz'),\n",
       " (1, 'ufuklarına'),\n",
       " (1, 'bakan'),\n",
       " (1, 'uzun')]"
      ]
     },
     "execution_count": 21,
     "metadata": {},
     "output_type": "execute_result"
    }
   ],
   "source": [
    "kelime_sayilari_RBK2.take(10)"
   ]
  },
  {
   "cell_type": "code",
   "execution_count": 22,
   "metadata": {},
   "outputs": [
    {
     "data": {
      "text/plain": [
       "[(59, ''),\n",
       " (33, 'bir'),\n",
       " (31, '–'),\n",
       " (8, 'yıl'),\n",
       " (6, 'diye'),\n",
       " (5, 'Türk'),\n",
       " (5, 'dedi.'),\n",
       " (5, 'onun'),\n",
       " (5, 'doğru'),\n",
       " (5, 'Kırk'),\n",
       " (4, 'Yirmi'),\n",
       " (4, 'tutsak'),\n",
       " (4, 'Ben'),\n",
       " (4, 'gibi'),\n",
       " (4, 'Ama'),\n",
       " (4, 'büyük'),\n",
       " (3, 'yanı'),\n",
       " (3, 'şey'),\n",
       " (3, 'onu'),\n",
       " (3, 'geminin')]"
      ]
     },
     "execution_count": 22,
     "metadata": {},
     "output_type": "execute_result"
    }
   ],
   "source": [
    "kelime_sayilari_RBK2.sortByKey(False).take(20)"
   ]
  },
  {
   "cell_type": "code",
   "execution_count": null,
   "metadata": {},
   "outputs": [],
   "source": []
  }
 ],
 "metadata": {
  "kernelspec": {
   "display_name": "Python 3",
   "language": "python",
   "name": "python3"
  },
  "language_info": {
   "codemirror_mode": {
    "name": "ipython",
    "version": 3
   },
   "file_extension": ".py",
   "mimetype": "text/x-python",
   "name": "python",
   "nbconvert_exporter": "python",
   "pygments_lexer": "ipython3",
   "version": "3.7.3"
  }
 },
 "nbformat": 4,
 "nbformat_minor": 2
}
