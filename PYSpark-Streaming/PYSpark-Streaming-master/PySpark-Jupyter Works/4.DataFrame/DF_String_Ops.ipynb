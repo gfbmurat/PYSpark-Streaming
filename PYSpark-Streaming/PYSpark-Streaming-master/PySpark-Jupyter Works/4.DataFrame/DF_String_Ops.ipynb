{
 "cells": [
  {
   "cell_type": "code",
   "execution_count": 2,
   "metadata": {},
   "outputs": [],
   "source": [
    "import findspark\n",
    "findspark.init()\n",
    "from pyspark.sql import SparkSession\n",
    "\n",
    "spark = SparkSession.builder \\\n",
    ".master(\"local[2]\") \\\n",
    ".appName(\"StringOps\") \\\n",
    ".config(\"spark.executor.memory\",\"4g\") \\\n",
    ".config(\"spark.driver.memory\",\"2g\") \\\n",
    ".getOrCreate()"
   ]
  },
  {
   "cell_type": "code",
   "execution_count": 3,
   "metadata": {},
   "outputs": [],
   "source": [
    "simple_df = spark.read \\\n",
    ".option(\"header\",\"True\") \\\n",
    ".option(\"inferSchema\",\"True\") \\\n",
    ".option(\"sep\",\",\") \\\n",
    ".csv(\"C:\\\\Users\\\\Muhammed\\\\Desktop\\\\Spark\\\\8\\\\simple_dirty_data.txt\")"
   ]
  },
  {
   "cell_type": "code",
   "execution_count": 4,
   "metadata": {},
   "outputs": [
    {
     "name": "stdout",
     "output_type": "stream",
     "text": [
      "+------+---------+---+--------+-----------+-----------+-----------+--------------------+\n",
      "|sirano|     isim|yas|cinsiyet|     meslek|      sehir|aylik_gelir|            mal_mulk|\n",
      "+------+---------+---+--------+-----------+-----------+-----------+--------------------+\n",
      "|     1|    Cemal| 35|       E|       Isci|     Ankara|     3500.0|               araba|\n",
      "|     2|   ceyda | 42|       K|      Memur|    Kayseri|     4200.0|            araba|ev|\n",
      "|     3|    Timur| 30|    null|   Müzüsyen|Istanbul   |     9000.0|     araba|ev|yazlık|\n",
      "|     4|   Burcu | 29|       K|Pazarlamacı|     Ankara|     4200.0|               araba|\n",
      "|     5|  Yasemin| 23|       K|Pazarlamaci|      Bursa|     4800.0|               araba|\n",
      "|     6|      Ali| 33|       E|      Memur|     Ankara|     4250.0|                  ev|\n",
      "|     7|    Dilek| 29|       K|Pazarlamaci|   Istanbul|     7300.0|        araba|yazlık|\n",
      "|     8|    Murat| 31|       E|   Müzüsyen|   Istanbul|    12000.0|araba|ev|dükkan|y...|\n",
      "|     9|    Ahmet| 33|       E|     Doktor|     Ankara|   180000.0|     araba|ev|yazlık|\n",
      "|    10| Muhittin| 46|       E|     Berber|   Istanbul|    12000.0|     araba|ev|dükkan|\n",
      "|    11| Hicaziye| 47|       K| Tuhafiyeci|       null|        4.8|              dükkan|\n",
      "|    12|    Harun| 43|       E|    Tornacı|    Ankara |     4200.0|               araba|\n",
      "|    13|    hakkı| 33|       E|      memur|     Çorum |     3750.0|                  ev|\n",
      "|    14|  Gülizar| 37|       K|     Doktor|      İzmir|    14250.0|               araba|\n",
      "|    15|   Şehmuz| 41|       E|   Müzisyen|     Ankara|     8700.0|               araba|\n",
      "+------+---------+---+--------+-----------+-----------+-----------+--------------------+\n",
      "\n"
     ]
    }
   ],
   "source": [
    "simple_df.show()"
   ]
  },
  {
   "cell_type": "code",
   "execution_count": 5,
   "metadata": {},
   "outputs": [],
   "source": [
    "from pyspark.sql.functions import *"
   ]
  },
  {
   "cell_type": "markdown",
   "metadata": {},
   "source": [
    "# Concat"
   ]
  },
  {
   "cell_type": "code",
   "execution_count": 6,
   "metadata": {},
   "outputs": [
    {
     "name": "stdout",
     "output_type": "stream",
     "text": [
      "+------+-------+---+--------+-----------+-----------+-----------+---------------+------------------------+\n",
      "|sirano|isim   |yas|cinsiyet|meslek     |sehir      |aylik_gelir|mal_mulk       |aylik_gelir_format      |\n",
      "+------+-------+---+--------+-----------+-----------+-----------+---------------+------------------------+\n",
      "|1     |Cemal  |35 |E       |Isci       |Ankara     |3500.0     |araba          |Isci - Ankara           |\n",
      "|2     |ceyda  |42 |K       |Memur      |Kayseri    |4200.0     |araba|ev       |Memur - Kayseri         |\n",
      "|3     |Timur  |30 |null    |Müzüsyen   |Istanbul   |9000.0     |araba|ev|yazlık|Müzüsyen - Istanbul     |\n",
      "|4     |Burcu  |29 |K       |Pazarlamacı|    Ankara |4200.0     |araba          |Pazarlamacı -     Ankara|\n",
      "|5     |Yasemin|23 |K       |Pazarlamaci|Bursa      |4800.0     |araba          |Pazarlamaci - Bursa     |\n",
      "+------+-------+---+--------+-----------+-----------+-----------+---------------+------------------------+\n",
      "only showing top 5 rows\n",
      "\n"
     ]
    }
   ],
   "source": [
    "df_concat = simple_df.withColumn(\"aylik_gelir_format\", concat(col(\"meslek\"), lit(\" - \"), col(\"sehir\")))\n",
    "df_concat.show(n=5, truncate=False)"
   ]
  },
  {
   "cell_type": "markdown",
   "metadata": {},
   "source": [
    "# Number Format"
   ]
  },
  {
   "cell_type": "code",
   "execution_count": 7,
   "metadata": {},
   "outputs": [
    {
     "name": "stdout",
     "output_type": "stream",
     "text": [
      "+------+-------+---+--------+-----------+-----------+-----------+---------------+------------------+\n",
      "|sirano|isim   |yas|cinsiyet|meslek     |sehir      |aylik_gelir|mal_mulk       |aylik_gelir_format|\n",
      "+------+-------+---+--------+-----------+-----------+-----------+---------------+------------------+\n",
      "|1     |Cemal  |35 |E       |Isci       |Ankara     |3500.0     |araba          |3,500.00          |\n",
      "|2     |ceyda  |42 |K       |Memur      |Kayseri    |4200.0     |araba|ev       |4,200.00          |\n",
      "|3     |Timur  |30 |null    |Müzüsyen   |Istanbul   |9000.0     |araba|ev|yazlık|9,000.00          |\n",
      "|4     |Burcu  |29 |K       |Pazarlamacı|    Ankara |4200.0     |araba          |4,200.00          |\n",
      "|5     |Yasemin|23 |K       |Pazarlamaci|Bursa      |4800.0     |araba          |4,800.00          |\n",
      "+------+-------+---+--------+-----------+-----------+-----------+---------------+------------------+\n",
      "only showing top 5 rows\n",
      "\n"
     ]
    }
   ],
   "source": [
    "df_number_format = simple_df.withColumn(\"aylik_gelir_format\", format_number(col(\"aylik_gelir\"),2))\n",
    "df_number_format.show(n=5, truncate=False)"
   ]
  },
  {
   "cell_type": "markdown",
   "metadata": {},
   "source": [
    "# lower, initcap, length"
   ]
  },
  {
   "cell_type": "code",
   "execution_count": 8,
   "metadata": {},
   "outputs": [
    {
     "name": "stdout",
     "output_type": "stream",
     "text": [
      "+------+-------+---+--------+-----------+-----------+-----------+---------------+------------+------------+------------+\n",
      "|sirano|isim   |yas|cinsiyet|meslek     |sehir      |aylik_gelir|mal_mulk       |meslek_lower|isim_initcap|sehir_length|\n",
      "+------+-------+---+--------+-----------+-----------+-----------+---------------+------------+------------+------------+\n",
      "|1     |Cemal  |35 |E       |Isci       |Ankara     |3500.0     |araba          |isci        |Cemal       |6           |\n",
      "|2     |ceyda  |42 |K       |Memur      |Kayseri    |4200.0     |araba|ev       |memur       |Ceyda       |7           |\n",
      "|3     |Timur  |30 |null    |Müzüsyen   |Istanbul   |9000.0     |araba|ev|yazlık|müzüsyen    |Timur       |11          |\n",
      "|4     |Burcu  |29 |K       |Pazarlamacı|    Ankara |4200.0     |araba          |pazarlamacı |Burcu       |10          |\n",
      "|5     |Yasemin|23 |K       |Pazarlamaci|Bursa      |4800.0     |araba          |pazarlamaci |Yasemin     |5           |\n",
      "+------+-------+---+--------+-----------+-----------+-----------+---------------+------------+------------+------------+\n",
      "only showing top 5 rows\n",
      "\n"
     ]
    }
   ],
   "source": [
    "df_lower = simple_df \\\n",
    ".withColumn(\"meslek_lower\", lower(col(\"meslek\"))) \\\n",
    ".withColumn(\"isim_initcap\", initcap(col(\"isim\"))) \\\n",
    ".withColumn(\"sehir_length\", length(col(\"sehir\")))\n",
    "\n",
    "df_lower.show(n=5, truncate=False)"
   ]
  },
  {
   "cell_type": "markdown",
   "metadata": {},
   "source": [
    "# trim"
   ]
  },
  {
   "cell_type": "code",
   "execution_count": 12,
   "metadata": {},
   "outputs": [
    {
     "name": "stdout",
     "output_type": "stream",
     "text": [
      "+------+-------+---+--------+-----------+-----------+-----------+---------------+-----------+-----------+----------+------------+\n",
      "|sirano|isim   |yas|cinsiyet|meslek     |sehir      |aylik_gelir|mal_mulk       |sehir_rtrim|sehir_ltrim|sehir_trim|sehir_length|\n",
      "+------+-------+---+--------+-----------+-----------+-----------+---------------+-----------+-----------+----------+------------+\n",
      "|1     |Cemal  |35 |E       |Isci       |Ankara     |3500.0     |araba          |Ankara     |Ankara     |Ankara    |6           |\n",
      "|2     |ceyda  |42 |K       |Memur      |Kayseri    |4200.0     |araba|ev       |Kayseri    |Kayseri    |Kayseri   |7           |\n",
      "|3     |Timur  |30 |null    |Müzüsyen   |Istanbul   |9000.0     |araba|ev|yazlık|Istanbul   |Istanbul   |Istanbul  |8           |\n",
      "|4     |Burcu  |29 |K       |Pazarlamacı|    Ankara |4200.0     |araba          |    Ankara |Ankara     |Ankara    |6           |\n",
      "|5     |Yasemin|23 |K       |Pazarlamaci|Bursa      |4800.0     |araba          |Bursa      |Bursa      |Bursa     |5           |\n",
      "+------+-------+---+--------+-----------+-----------+-----------+---------------+-----------+-----------+----------+------------+\n",
      "only showing top 5 rows\n",
      "\n"
     ]
    }
   ],
   "source": [
    "df_trim = simple_df \\\n",
    ".withColumn(\"sehir_rtrim\", rtrim(col(\"sehir\"))) \\\n",
    ".withColumn(\"sehir_ltrim\", ltrim(col(\"sehir\"))) \\\n",
    ".withColumn(\"sehir_trim\", trim(col(\"sehir\"))) \\\n",
    ".withColumn(\"sehir_length\", length(col(\"sehir_trim\")))\n",
    "\n",
    "df_trim.show(n=5, truncate=False)"
   ]
  },
  {
   "cell_type": "markdown",
   "metadata": {},
   "source": [
    "# replace, split"
   ]
  },
  {
   "cell_type": "code",
   "execution_count": 13,
   "metadata": {},
   "outputs": [
    {
     "name": "stdout",
     "output_type": "stream",
     "text": [
      "+------+-------+---+--------+-----------+-----------+-----------+---------------+-----------+-------------------+-------------------+\n",
      "|sirano|isim   |yas|cinsiyet|meslek     |sehir      |aylik_gelir|mal_mulk       |sehir_ist  |mal_mulk_split     |mal_mulk_ilk_eleman|\n",
      "+------+-------+---+--------+-----------+-----------+-----------+---------------+-----------+-------------------+-------------------+\n",
      "|1     |Cemal  |35 |E       |Isci       |Ankara     |3500.0     |araba          |Ankara     |[araba]            |araba              |\n",
      "|2     |ceyda  |42 |K       |Memur      |Kayseri    |4200.0     |araba|ev       |Kayseri    |[araba, ev]        |araba              |\n",
      "|3     |Timur  |30 |null    |Müzüsyen   |Istanbul   |9000.0     |araba|ev|yazlık|İSTanbul   |[araba, ev, yazlık]|araba              |\n",
      "|4     |Burcu  |29 |K       |Pazarlamacı|    Ankara |4200.0     |araba          |    Ankara |[araba]            |araba              |\n",
      "|5     |Yasemin|23 |K       |Pazarlamaci|Bursa      |4800.0     |araba          |Bursa      |[araba]            |araba              |\n",
      "+------+-------+---+--------+-----------+-----------+-----------+---------------+-----------+-------------------+-------------------+\n",
      "only showing top 5 rows\n",
      "\n"
     ]
    }
   ],
   "source": [
    "\n",
    "df_replace = simple_df \\\n",
    ".withColumn(\"sehir_ist\", regexp_replace(col(\"sehir\"), \"Ist\", \"İST\")) \\\n",
    ".withColumn(\"mal_mulk_split\", split(col(\"mal_mulk\"), \"\\\\|\")) \\\n",
    ".withColumn(\"mal_mulk_ilk_eleman\", col(\"mal_mulk_split\")[0])\n",
    "\n",
    "df_replace.show(n=5, truncate=False)"
   ]
  },
  {
   "cell_type": "code",
   "execution_count": 14,
   "metadata": {},
   "outputs": [
    {
     "name": "stdout",
     "output_type": "stream",
     "text": [
      "root\n",
      " |-- sirano: integer (nullable = true)\n",
      " |-- isim: string (nullable = true)\n",
      " |-- yas: integer (nullable = true)\n",
      " |-- cinsiyet: string (nullable = true)\n",
      " |-- meslek: string (nullable = true)\n",
      " |-- sehir: string (nullable = true)\n",
      " |-- aylik_gelir: double (nullable = true)\n",
      " |-- mal_mulk: string (nullable = true)\n",
      " |-- sehir_ist: string (nullable = true)\n",
      " |-- mal_mulk_split: array (nullable = true)\n",
      " |    |-- element: string (containsNull = true)\n",
      " |-- mal_mulk_ilk_eleman: string (nullable = true)\n",
      "\n"
     ]
    }
   ],
   "source": [
    "df_replace.printSchema()"
   ]
  },
  {
   "cell_type": "code",
   "execution_count": null,
   "metadata": {},
   "outputs": [],
   "source": []
  }
 ],
 "metadata": {
  "kernelspec": {
   "display_name": "Python 3",
   "language": "python",
   "name": "python3"
  },
  "language_info": {
   "codemirror_mode": {
    "name": "ipython",
    "version": 3
   },
   "file_extension": ".py",
   "mimetype": "text/x-python",
   "name": "python",
   "nbconvert_exporter": "python",
   "pygments_lexer": "ipython3",
   "version": "3.7.3"
  }
 },
 "nbformat": 4,
 "nbformat_minor": 2
}
